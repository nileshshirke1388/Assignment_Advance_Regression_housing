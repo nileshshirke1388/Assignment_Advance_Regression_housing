{
 "cells": [
  {
   "cell_type": "code",
   "execution_count": 1,
   "id": "6b207d7f",
   "metadata": {},
   "outputs": [
    {
     "name": "stdout",
     "output_type": "stream",
     "text": [
      "Nilesh\n",
      "Nilesh\n"
     ]
    }
   ],
   "source": [
    "a= input()\n",
    "print(a)"
   ]
  },
  {
   "cell_type": "code",
   "execution_count": 19,
   "id": "b44a2061",
   "metadata": {},
   "outputs": [
    {
     "name": "stdout",
     "output_type": "stream",
     "text": [
      "1\n",
      "10\n",
      "10\n",
      "10\n"
     ]
    }
   ],
   "source": [
    "a= input() \n",
    "b= input()\n",
    "a=b\n",
    "b=a\n",
    "print(a)\n",
    "print (b)"
   ]
  },
  {
   "cell_type": "markdown",
   "id": "0aef90b3",
   "metadata": {},
   "source": [
    "### "
   ]
  }
 ],
 "metadata": {
  "kernelspec": {
   "display_name": "Python 3 (ipykernel)",
   "language": "python",
   "name": "python3"
  },
  "language_info": {
   "codemirror_mode": {
    "name": "ipython",
    "version": 3
   },
   "file_extension": ".py",
   "mimetype": "text/x-python",
   "name": "python",
   "nbconvert_exporter": "python",
   "pygments_lexer": "ipython3",
   "version": "3.9.13"
  }
 },
 "nbformat": 4,
 "nbformat_minor": 5
}
